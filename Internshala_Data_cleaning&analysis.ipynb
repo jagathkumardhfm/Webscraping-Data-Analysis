{
 "cells": [
  {
   "cell_type": "markdown",
   "id": "f87edafc",
   "metadata": {},
   "source": [
    "### Importing necessory packages for data cleaning and analysis"
   ]
  },
  {
   "cell_type": "code",
   "execution_count": 359,
   "id": "06a9a7b5",
   "metadata": {},
   "outputs": [],
   "source": [
    "import sys\n",
    "import numpy as np\n",
    "import pandas as pd\n",
    "import re\n",
    "import matplotlib.pyplot as plt\n",
    "import seaborn as sns"
   ]
  },
  {
   "cell_type": "markdown",
   "id": "e3c571f9",
   "metadata": {},
   "source": [
    "### Importing dataset with pandas library"
   ]
  },
  {
   "cell_type": "code",
   "execution_count": 360,
   "id": "d1305330",
   "metadata": {},
   "outputs": [],
   "source": [
    "data =pd.read_csv(\"internshala_full.csv\")\n",
    "pd.set_option(\"display.max_rows\", None)"
   ]
  },
  {
   "cell_type": "code",
   "execution_count": 361,
   "id": "f1ff978c",
   "metadata": {
    "scrolled": false
   },
   "outputs": [
    {
     "data": {
      "text/html": [
       "<div>\n",
       "<style scoped>\n",
       "    .dataframe tbody tr th:only-of-type {\n",
       "        vertical-align: middle;\n",
       "    }\n",
       "\n",
       "    .dataframe tbody tr th {\n",
       "        vertical-align: top;\n",
       "    }\n",
       "\n",
       "    .dataframe thead th {\n",
       "        text-align: right;\n",
       "    }\n",
       "</style>\n",
       "<table border=\"1\" class=\"dataframe\">\n",
       "  <thead>\n",
       "    <tr style=\"text-align: right;\">\n",
       "      <th></th>\n",
       "      <th>title</th>\n",
       "      <th>company</th>\n",
       "      <th>location</th>\n",
       "      <th>duration</th>\n",
       "      <th>stipend</th>\n",
       "      <th>hiring_since</th>\n",
       "      <th>oppor_posted</th>\n",
       "      <th>perks</th>\n",
       "      <th>skills</th>\n",
       "      <th>openings</th>\n",
       "    </tr>\n",
       "  </thead>\n",
       "  <tbody>\n",
       "    <tr>\n",
       "      <th>0</th>\n",
       "      <td>Human Resources (HR)</td>\n",
       "      <td>Jobs Flash Consulting Services</td>\n",
       "      <td>Gurgaon</td>\n",
       "      <td>4 Months</td>\n",
       "      <td>7,000 /month</td>\n",
       "      <td>Hiring since September 2021</td>\n",
       "      <td>13 opportunities posted</td>\n",
       "      <td>Certificate,Letter of recommendation,Informal ...</td>\n",
       "      <td>English Proficiency (Spoken),English Proficien...</td>\n",
       "      <td>1</td>\n",
       "    </tr>\n",
       "    <tr>\n",
       "      <th>1</th>\n",
       "      <td>Digital Marketing</td>\n",
       "      <td>Rigil Biotech Private Limited</td>\n",
       "      <td>Delhi</td>\n",
       "      <td>6 Months</td>\n",
       "      <td>10,000-12,000 /month</td>\n",
       "      <td>Hiring since May 2021</td>\n",
       "      <td>13 opportunities posted</td>\n",
       "      <td>Certificate,Letter of recommendation,Flexible ...</td>\n",
       "      <td>Amazon Web Services (AWS),Digital Marketing,So...</td>\n",
       "      <td>1</td>\n",
       "    </tr>\n",
       "    <tr>\n",
       "      <th>2</th>\n",
       "      <td>Internshala Student Partner</td>\n",
       "      <td>Internshala</td>\n",
       "      <td>Work From Home</td>\n",
       "      <td>6 Weeks</td>\n",
       "      <td>NaN</td>\n",
       "      <td>Hiring since August 2022</td>\n",
       "      <td>2 opportunities posted</td>\n",
       "      <td>Certificate,Letter of recommendation</td>\n",
       "      <td>NaN</td>\n",
       "      <td>1000</td>\n",
       "    </tr>\n",
       "  </tbody>\n",
       "</table>\n",
       "</div>"
      ],
      "text/plain": [
       "                         title                         company  \\\n",
       "0         Human Resources (HR)  Jobs Flash Consulting Services   \n",
       "1            Digital Marketing   Rigil Biotech Private Limited   \n",
       "2  Internshala Student Partner                     Internshala   \n",
       "\n",
       "         location  duration                stipend  \\\n",
       "0         Gurgaon  4 Months           7,000 /month   \n",
       "1           Delhi  6 Months   10,000-12,000 /month   \n",
       "2  Work From Home   6 Weeks                    NaN   \n",
       "\n",
       "                  hiring_since             oppor_posted  \\\n",
       "0  Hiring since September 2021  13 opportunities posted   \n",
       "1        Hiring since May 2021  13 opportunities posted   \n",
       "2     Hiring since August 2022   2 opportunities posted   \n",
       "\n",
       "                                               perks  \\\n",
       "0  Certificate,Letter of recommendation,Informal ...   \n",
       "1  Certificate,Letter of recommendation,Flexible ...   \n",
       "2               Certificate,Letter of recommendation   \n",
       "\n",
       "                                              skills  openings  \n",
       "0  English Proficiency (Spoken),English Proficien...         1  \n",
       "1  Amazon Web Services (AWS),Digital Marketing,So...         1  \n",
       "2                                                NaN      1000  "
      ]
     },
     "execution_count": 361,
     "metadata": {},
     "output_type": "execute_result"
    }
   ],
   "source": [
    "data.head(3)"
   ]
  },
  {
   "cell_type": "markdown",
   "id": "a8a8e316",
   "metadata": {},
   "source": [
    "# Data cleaning process"
   ]
  },
  {
   "cell_type": "markdown",
   "id": "6771862c",
   "metadata": {},
   "source": [
    "### Finding the duplicates in data and removing "
   ]
  },
  {
   "cell_type": "code",
   "execution_count": 362,
   "id": "1642a6c9",
   "metadata": {},
   "outputs": [
    {
     "data": {
      "text/plain": [
       "74"
      ]
     },
     "execution_count": 362,
     "metadata": {},
     "output_type": "execute_result"
    }
   ],
   "source": [
    "# Number of duplicate rows present in the data set \n",
    "data.duplicated().sum()"
   ]
  },
  {
   "cell_type": "code",
   "execution_count": 363,
   "id": "0d985959",
   "metadata": {},
   "outputs": [],
   "source": [
    "# Dropping all the duplicate rows \n",
    "data.drop_duplicates(inplace=True)"
   ]
  },
  {
   "cell_type": "markdown",
   "id": "908a9f74",
   "metadata": {},
   "source": [
    "### Finding and handling  null & missing values in data  "
   ]
  },
  {
   "cell_type": "code",
   "execution_count": 364,
   "id": "bf4e9371",
   "metadata": {},
   "outputs": [
    {
     "data": {
      "text/plain": [
       "title             0\n",
       "company           0\n",
       "location          0\n",
       "duration          0\n",
       "stipend           2\n",
       "hiring_since      0\n",
       "oppor_posted      0\n",
       "perks           186\n",
       "skills          616\n",
       "openings          0\n",
       "dtype: int64"
      ]
     },
     "execution_count": 364,
     "metadata": {},
     "output_type": "execute_result"
    }
   ],
   "source": [
    "# Finding if there are any null values in the dataset\n",
    "data.isna().sum()"
   ]
  },
  {
   "cell_type": "code",
   "execution_count": 365,
   "id": "95a714d5",
   "metadata": {},
   "outputs": [],
   "source": [
    "# Dropping the rows in which stipend column contains null values\n",
    "data.dropna(subset=['stipend'],inplace=True)"
   ]
  },
  {
   "cell_type": "markdown",
   "id": "7e72f0ea",
   "metadata": {},
   "source": [
    "### Finding if there are any indefinite values"
   ]
  },
  {
   "cell_type": "code",
   "execution_count": 366,
   "id": "b4501016",
   "metadata": {},
   "outputs": [
    {
     "data": {
      "text/plain": [
       "0"
      ]
     },
     "execution_count": 366,
     "metadata": {},
     "output_type": "execute_result"
    }
   ],
   "source": [
    "data.stipend.isin(['-np.inf']).sum()"
   ]
  },
  {
   "cell_type": "code",
   "execution_count": 367,
   "id": "16e50859",
   "metadata": {
    "scrolled": true
   },
   "outputs": [
    {
     "name": "stdout",
     "output_type": "stream",
     "text": [
      "<class 'pandas.core.frame.DataFrame'>\n",
      "Int64Index: 3924 entries, 0 to 3999\n",
      "Data columns (total 10 columns):\n",
      " #   Column        Non-Null Count  Dtype \n",
      "---  ------        --------------  ----- \n",
      " 0   title         3924 non-null   object\n",
      " 1   company       3924 non-null   object\n",
      " 2   location      3924 non-null   object\n",
      " 3   duration      3924 non-null   object\n",
      " 4   stipend       3924 non-null   object\n",
      " 5   hiring_since  3924 non-null   object\n",
      " 6   oppor_posted  3924 non-null   object\n",
      " 7   perks         3738 non-null   object\n",
      " 8   skills        3309 non-null   object\n",
      " 9   openings      3924 non-null   int64 \n",
      "dtypes: int64(1), object(9)\n",
      "memory usage: 337.2+ KB\n"
     ]
    }
   ],
   "source": [
    "data.info()"
   ]
  },
  {
   "cell_type": "markdown",
   "id": "0f22a05c",
   "metadata": {},
   "source": [
    "#### Datatypes of all the columns are in object and some of them need to be typecasted further"
   ]
  },
  {
   "cell_type": "markdown",
   "id": "f295d84b",
   "metadata": {},
   "source": [
    "### Extracting necessary content from string values from columns and Converting the datatypes further"
   ]
  },
  {
   "cell_type": "code",
   "execution_count": 368,
   "id": "d11fc1cd",
   "metadata": {},
   "outputs": [],
   "source": [
    "# Extracting the base stipend digit amount from the string values \n",
    "raw_stipend = data.stipend.str.extract(r'(\\d+,\\d+)')"
   ]
  },
  {
   "cell_type": "code",
   "execution_count": 369,
   "id": "02df652f",
   "metadata": {},
   "outputs": [],
   "source": [
    "# Converting dataframe stipend column into series using squeeze() function\n",
    "squeezed_raw_stipend  = raw_stipend.squeeze()\n",
    "squeezed_raw_stipend1 = squeezed_raw_stipend.str.strip()\n",
    "squeezed_raw_stipend2 = squeezed_raw_stipend1.str.replace(',','')\n",
    "\n",
    "# Converting column stipend datatype from object to float\n",
    "squeezed_raw_stipend3 = squeezed_raw_stipend2.astype(float)\n",
    "data['stipend_new']= squeezed_raw_stipend3 "
   ]
  },
  {
   "cell_type": "code",
   "execution_count": 370,
   "id": "1e832c6a",
   "metadata": {},
   "outputs": [
    {
     "data": {
      "text/html": [
       "<div>\n",
       "<style scoped>\n",
       "    .dataframe tbody tr th:only-of-type {\n",
       "        vertical-align: middle;\n",
       "    }\n",
       "\n",
       "    .dataframe tbody tr th {\n",
       "        vertical-align: top;\n",
       "    }\n",
       "\n",
       "    .dataframe thead th {\n",
       "        text-align: right;\n",
       "    }\n",
       "</style>\n",
       "<table border=\"1\" class=\"dataframe\">\n",
       "  <thead>\n",
       "    <tr style=\"text-align: right;\">\n",
       "      <th></th>\n",
       "      <th>title</th>\n",
       "      <th>company</th>\n",
       "      <th>location</th>\n",
       "      <th>duration</th>\n",
       "      <th>stipend</th>\n",
       "      <th>hiring_since</th>\n",
       "      <th>oppor_posted</th>\n",
       "      <th>perks</th>\n",
       "      <th>skills</th>\n",
       "      <th>openings</th>\n",
       "      <th>stipend_new</th>\n",
       "    </tr>\n",
       "  </thead>\n",
       "  <tbody>\n",
       "    <tr>\n",
       "      <th>0</th>\n",
       "      <td>Human Resources (HR)</td>\n",
       "      <td>Jobs Flash Consulting Services</td>\n",
       "      <td>Gurgaon</td>\n",
       "      <td>4 Months</td>\n",
       "      <td>7,000 /month</td>\n",
       "      <td>Hiring since September 2021</td>\n",
       "      <td>13 opportunities posted</td>\n",
       "      <td>Certificate,Letter of recommendation,Informal ...</td>\n",
       "      <td>English Proficiency (Spoken),English Proficien...</td>\n",
       "      <td>1</td>\n",
       "      <td>7000.0</td>\n",
       "    </tr>\n",
       "  </tbody>\n",
       "</table>\n",
       "</div>"
      ],
      "text/plain": [
       "                  title                         company location  duration  \\\n",
       "0  Human Resources (HR)  Jobs Flash Consulting Services  Gurgaon  4 Months   \n",
       "\n",
       "         stipend                 hiring_since             oppor_posted  \\\n",
       "0   7,000 /month  Hiring since September 2021  13 opportunities posted   \n",
       "\n",
       "                                               perks  \\\n",
       "0  Certificate,Letter of recommendation,Informal ...   \n",
       "\n",
       "                                              skills  openings  stipend_new  \n",
       "0  English Proficiency (Spoken),English Proficien...         1       7000.0  "
      ]
     },
     "execution_count": 370,
     "metadata": {},
     "output_type": "execute_result"
    }
   ],
   "source": [
    "data.head(1)"
   ]
  },
  {
   "cell_type": "code",
   "execution_count": 371,
   "id": "7fe8f319",
   "metadata": {},
   "outputs": [],
   "source": [
    "raw_duration = data.duration.str.extract(r'(\\d+)')\n",
    "raw_duration1=raw_duration.squeeze()\n",
    "\n",
    "# Converting column duration datatype from object to integer\n",
    "raw_duration2 =raw_duration1.astype(int)\n",
    "data['duration'] = raw_duration2"
   ]
  },
  {
   "cell_type": "code",
   "execution_count": 372,
   "id": "fdbf53b2",
   "metadata": {},
   "outputs": [
    {
     "data": {
      "text/html": [
       "<div>\n",
       "<style scoped>\n",
       "    .dataframe tbody tr th:only-of-type {\n",
       "        vertical-align: middle;\n",
       "    }\n",
       "\n",
       "    .dataframe tbody tr th {\n",
       "        vertical-align: top;\n",
       "    }\n",
       "\n",
       "    .dataframe thead th {\n",
       "        text-align: right;\n",
       "    }\n",
       "</style>\n",
       "<table border=\"1\" class=\"dataframe\">\n",
       "  <thead>\n",
       "    <tr style=\"text-align: right;\">\n",
       "      <th></th>\n",
       "      <th>title</th>\n",
       "      <th>company</th>\n",
       "      <th>location</th>\n",
       "      <th>duration</th>\n",
       "      <th>stipend</th>\n",
       "      <th>hiring_since</th>\n",
       "      <th>oppor_posted</th>\n",
       "      <th>perks</th>\n",
       "      <th>skills</th>\n",
       "      <th>openings</th>\n",
       "      <th>stipend_new</th>\n",
       "    </tr>\n",
       "  </thead>\n",
       "  <tbody>\n",
       "    <tr>\n",
       "      <th>0</th>\n",
       "      <td>Human Resources (HR)</td>\n",
       "      <td>Jobs Flash Consulting Services</td>\n",
       "      <td>Gurgaon</td>\n",
       "      <td>4</td>\n",
       "      <td>7,000 /month</td>\n",
       "      <td>Hiring since September 2021</td>\n",
       "      <td>13 opportunities posted</td>\n",
       "      <td>Certificate,Letter of recommendation,Informal ...</td>\n",
       "      <td>English Proficiency (Spoken),English Proficien...</td>\n",
       "      <td>1</td>\n",
       "      <td>7000.0</td>\n",
       "    </tr>\n",
       "  </tbody>\n",
       "</table>\n",
       "</div>"
      ],
      "text/plain": [
       "                  title                         company location  duration  \\\n",
       "0  Human Resources (HR)  Jobs Flash Consulting Services  Gurgaon         4   \n",
       "\n",
       "         stipend                 hiring_since             oppor_posted  \\\n",
       "0   7,000 /month  Hiring since September 2021  13 opportunities posted   \n",
       "\n",
       "                                               perks  \\\n",
       "0  Certificate,Letter of recommendation,Informal ...   \n",
       "\n",
       "                                              skills  openings  stipend_new  \n",
       "0  English Proficiency (Spoken),English Proficien...         1       7000.0  "
      ]
     },
     "execution_count": 372,
     "metadata": {},
     "output_type": "execute_result"
    }
   ],
   "source": [
    "data.head(1)"
   ]
  },
  {
   "cell_type": "code",
   "execution_count": 373,
   "id": "07271bd1",
   "metadata": {},
   "outputs": [
    {
     "data": {
      "text/html": [
       "<div>\n",
       "<style scoped>\n",
       "    .dataframe tbody tr th:only-of-type {\n",
       "        vertical-align: middle;\n",
       "    }\n",
       "\n",
       "    .dataframe tbody tr th {\n",
       "        vertical-align: top;\n",
       "    }\n",
       "\n",
       "    .dataframe thead th {\n",
       "        text-align: right;\n",
       "    }\n",
       "</style>\n",
       "<table border=\"1\" class=\"dataframe\">\n",
       "  <thead>\n",
       "    <tr style=\"text-align: right;\">\n",
       "      <th></th>\n",
       "      <th>title</th>\n",
       "      <th>company</th>\n",
       "      <th>location</th>\n",
       "      <th>duration</th>\n",
       "      <th>stipend</th>\n",
       "      <th>hiring_since</th>\n",
       "      <th>oppor_posted</th>\n",
       "      <th>perks</th>\n",
       "      <th>skills</th>\n",
       "      <th>openings</th>\n",
       "      <th>stipend_new</th>\n",
       "    </tr>\n",
       "  </thead>\n",
       "  <tbody>\n",
       "    <tr>\n",
       "      <th>3583</th>\n",
       "      <td>CA Articleship</td>\n",
       "      <td>Sunil K. Khanna &amp; Company</td>\n",
       "      <td>Faridabad</td>\n",
       "      <td>6</td>\n",
       "      <td>6,000 /month</td>\n",
       "      <td>76 opportunities posted</td>\n",
       "      <td>14 candidates hired</td>\n",
       "      <td>Certificate</td>\n",
       "      <td>NaN</td>\n",
       "      <td>4</td>\n",
       "      <td>6000.0</td>\n",
       "    </tr>\n",
       "  </tbody>\n",
       "</table>\n",
       "</div>"
      ],
      "text/plain": [
       "               title                    company   location  duration  \\\n",
       "3583  CA Articleship  Sunil K. Khanna & Company  Faridabad         6   \n",
       "\n",
       "            stipend             hiring_since         oppor_posted  \\\n",
       "3583   6,000 /month  76 opportunities posted  14 candidates hired   \n",
       "\n",
       "            perks skills  openings  stipend_new  \n",
       "3583  Certificate    NaN         4       6000.0  "
      ]
     },
     "execution_count": 373,
     "metadata": {},
     "output_type": "execute_result"
    }
   ],
   "source": [
    "# dataset contains a mismatching value in hiring since column and this row should be removed \n",
    "error_mask_in_hiring = data[(data['hiring_since']=='76 opportunities posted')]\n",
    "error_mask_in_hiring"
   ]
  },
  {
   "cell_type": "code",
   "execution_count": 374,
   "id": "a100a0c5",
   "metadata": {},
   "outputs": [],
   "source": [
    "# the index number of the error valued row is 3583 and this is removed \n",
    "data.drop(index = 3583,inplace=True)"
   ]
  },
  {
   "cell_type": "code",
   "execution_count": 375,
   "id": "377a53e1",
   "metadata": {},
   "outputs": [],
   "source": [
    "# Replacing the new values of stipend_new with old column stipend\n",
    "data['stipend']= data['stipend_new']"
   ]
  },
  {
   "cell_type": "code",
   "execution_count": 376,
   "id": "8fb2a60b",
   "metadata": {},
   "outputs": [],
   "source": [
    "# Extra column that is created is being dropped \n",
    "data.drop(columns=['stipend_new'],inplace=True)"
   ]
  },
  {
   "cell_type": "code",
   "execution_count": 377,
   "id": "026ef4a8",
   "metadata": {},
   "outputs": [
    {
     "data": {
      "text/plain": [
       "0   2021-09-01\n",
       "Name: hiring_since, dtype: datetime64[ns]"
      ]
     },
     "execution_count": 377,
     "metadata": {},
     "output_type": "execute_result"
    }
   ],
   "source": [
    "squeezed_raw_hiring  = data['hiring_since'].squeeze()\n",
    "squeezed_raw_hiring1 = squeezed_raw_hiring.str.replace('Hiring since','')\n",
    "squeezed_raw_hiring2 = squeezed_raw_hiring1.str.strip()\n",
    "\n",
    "# Converting the unorganized datetime format to organized format with to_datetime function\n",
    "raw_hiring_date = pd.to_datetime(squeezed_raw_hiring2,format=\"%B %Y\")\n",
    "raw_hiring_date.head(1)"
   ]
  },
  {
   "cell_type": "code",
   "execution_count": 378,
   "id": "914b32e0",
   "metadata": {},
   "outputs": [],
   "source": [
    "#extracting the year from the obtained series (sqeezed_raw_hiring3) and replacing these series with the hiring_since column\n",
    "hiring_year = raw_hiring_date.dt.year\n",
    "data['hiring_since']=hiring_year"
   ]
  },
  {
   "cell_type": "code",
   "execution_count": 379,
   "id": "e5c164bf",
   "metadata": {},
   "outputs": [],
   "source": [
    "squeezed_raw_oppor  = data['oppor_posted'].squeeze()\n",
    "squeezed_raw_oppor1 = squeezed_raw_oppor.str.replace('opportunit(ies|y) posted','',regex=True)\n",
    "squeezed_raw_oppor2 = squeezed_raw_oppor1.str.strip()\n",
    "\n",
    "# Converting column oppor_posted datatype from object to integer\n",
    "squeezed_raw_oppor3 = squeezed_raw_oppor2.astype(int)\n",
    "data['oppor_posted']= squeezed_raw_oppor3"
   ]
  },
  {
   "cell_type": "code",
   "execution_count": 380,
   "id": "3727d346",
   "metadata": {},
   "outputs": [
    {
     "data": {
      "text/plain": [
       "153"
      ]
     },
     "execution_count": 380,
     "metadata": {},
     "output_type": "execute_result"
    }
   ],
   "source": [
    "# Finding if there are any null values in newly created stipend column\n",
    "data.stipend.isna().sum()"
   ]
  },
  {
   "cell_type": "code",
   "execution_count": 381,
   "id": "2f98f0e7",
   "metadata": {},
   "outputs": [],
   "source": [
    "#dropping all the rows in which stipend column has null values\n",
    "data.dropna(subset= ['stipend'],inplace=True)"
   ]
  },
  {
   "cell_type": "markdown",
   "id": "f7576bac",
   "metadata": {},
   "source": [
    "### Detection of Outliers with help of IQR approach"
   ]
  },
  {
   "cell_type": "code",
   "execution_count": 382,
   "id": "892f76bf",
   "metadata": {},
   "outputs": [
    {
     "data": {
      "text/plain": [
       "(6000.0, 10000.0, 4000.0)"
      ]
     },
     "execution_count": 382,
     "metadata": {},
     "output_type": "execute_result"
    }
   ],
   "source": [
    "Q3  = data['stipend'].quantile(0.75)\n",
    "Q1 = data['stipend'].quantile(0.25)\n",
    "IQR = Q3-Q1\n",
    "IQR,Q3,Q1"
   ]
  },
  {
   "cell_type": "code",
   "execution_count": 383,
   "id": "923ae161",
   "metadata": {},
   "outputs": [
    {
     "data": {
      "text/plain": [
       "(-5000.0, 19000.0)"
      ]
     },
     "execution_count": 383,
     "metadata": {},
     "output_type": "execute_result"
    }
   ],
   "source": [
    "lower_limit =  Q1 - (1.5* IQR)\n",
    "upper_limit = Q3 + (1.5* IQR)\n",
    "lower_limit, upper_limit"
   ]
  },
  {
   "cell_type": "markdown",
   "id": "c1803c58",
   "metadata": {},
   "source": [
    "### Detection of Outliers with help of Box plot vizual approach"
   ]
  },
  {
   "cell_type": "markdown",
   "id": "f1f01cec",
   "metadata": {},
   "source": [
    "##### as the lower limit has come to negative value with Interquartile range method,  we just consider boxplot for attaining the outliers (which are minimum in this case)"
   ]
  },
  {
   "cell_type": "code",
   "execution_count": 384,
   "id": "c0800d7b",
   "metadata": {},
   "outputs": [
    {
     "data": {
      "text/plain": [
       "<AxesSubplot:xlabel='stipend'>"
      ]
     },
     "execution_count": 384,
     "metadata": {},
     "output_type": "execute_result"
    },
    {
     "data": {
      "image/png": "[encoded data removed]",
      "text/plain": [
       "<Figure size 640x480 with 1 Axes>"
      ]
     },
     "metadata": {},
     "output_type": "display_data"
    }
   ],
   "source": [
    "sns.boxplot(x=data['stipend'])"
   ]
  },
  {
   "cell_type": "markdown",
   "id": "4ff9808c",
   "metadata": {},
   "source": [
    "##### here from the diagram we can conclude that the outliers started after values that are greater than 20,000. so we remove the rows that contain the stipend values more than 20,000 for further analysis"
   ]
  },
  {
   "cell_type": "code",
   "execution_count": 385,
   "id": "cf721ff2",
   "metadata": {
    "scrolled": false
   },
   "outputs": [],
   "source": [
    "# filtering the dataset and forming a new data set by assigning the old dataset name to the new dataset\n",
    "new_data = data[(data['stipend']<20000)]\n",
    "data = new_data"
   ]
  },
  {
   "cell_type": "markdown",
   "id": "8c1c37cd",
   "metadata": {},
   "source": [
    "### Exporting this data for creating new datasets for seperating comma seperated values in skills & perks columns to multiple rows corresponding to the company column"
   ]
  },
  {
   "cell_type": "code",
   "execution_count": 386,
   "id": "d4d65761",
   "metadata": {},
   "outputs": [],
   "source": [
    "data.to_csv('C:\\\\Users\\\\kumar\\\\Downloads\\\\internshala_skills&perks.csv',index=False)"
   ]
  },
  {
   "cell_type": "code",
   "execution_count": 387,
   "id": "ce8f6b86",
   "metadata": {},
   "outputs": [
    {
     "data": {
      "text/html": [
       "<div>\n",
       "<style scoped>\n",
       "    .dataframe tbody tr th:only-of-type {\n",
       "        vertical-align: middle;\n",
       "    }\n",
       "\n",
       "    .dataframe tbody tr th {\n",
       "        vertical-align: top;\n",
       "    }\n",
       "\n",
       "    .dataframe thead th {\n",
       "        text-align: right;\n",
       "    }\n",
       "</style>\n",
       "<table border=\"1\" class=\"dataframe\">\n",
       "  <thead>\n",
       "    <tr style=\"text-align: right;\">\n",
       "      <th></th>\n",
       "      <th>company</th>\n",
       "      <th>skills</th>\n",
       "    </tr>\n",
       "  </thead>\n",
       "  <tbody>\n",
       "    <tr>\n",
       "      <th>0</th>\n",
       "      <td>Jobs Flash Consulting Services</td>\n",
       "      <td>English Proficiency (Spoken)</td>\n",
       "    </tr>\n",
       "    <tr>\n",
       "      <th>1</th>\n",
       "      <td>Jobs Flash Consulting Services</td>\n",
       "      <td>English Proficiency (Written)</td>\n",
       "    </tr>\n",
       "  </tbody>\n",
       "</table>\n",
       "</div>"
      ],
      "text/plain": [
       "                          company                         skills\n",
       "0  Jobs Flash Consulting Services   English Proficiency (Spoken)\n",
       "1  Jobs Flash Consulting Services  English Proficiency (Written)"
      ]
     },
     "execution_count": 387,
     "metadata": {},
     "output_type": "execute_result"
    }
   ],
   "source": [
    "skills_data = pd.read_csv('internshala_skills_data.csv')\n",
    "skills_data.head(2)"
   ]
  },
  {
   "cell_type": "code",
   "execution_count": 388,
   "id": "d80af272",
   "metadata": {},
   "outputs": [
    {
     "data": {
      "text/html": [
       "<div>\n",
       "<style scoped>\n",
       "    .dataframe tbody tr th:only-of-type {\n",
       "        vertical-align: middle;\n",
       "    }\n",
       "\n",
       "    .dataframe tbody tr th {\n",
       "        vertical-align: top;\n",
       "    }\n",
       "\n",
       "    .dataframe thead th {\n",
       "        text-align: right;\n",
       "    }\n",
       "</style>\n",
       "<table border=\"1\" class=\"dataframe\">\n",
       "  <thead>\n",
       "    <tr style=\"text-align: right;\">\n",
       "      <th></th>\n",
       "      <th>company</th>\n",
       "      <th>perks</th>\n",
       "    </tr>\n",
       "  </thead>\n",
       "  <tbody>\n",
       "    <tr>\n",
       "      <th>0</th>\n",
       "      <td>Jobs Flash Consulting Services</td>\n",
       "      <td>Certificate</td>\n",
       "    </tr>\n",
       "    <tr>\n",
       "      <th>1</th>\n",
       "      <td>Jobs Flash Consulting Services</td>\n",
       "      <td>Letter of recommendation</td>\n",
       "    </tr>\n",
       "  </tbody>\n",
       "</table>\n",
       "</div>"
      ],
      "text/plain": [
       "                          company                     perks\n",
       "0  Jobs Flash Consulting Services               Certificate\n",
       "1  Jobs Flash Consulting Services  Letter of recommendation"
      ]
     },
     "execution_count": 388,
     "metadata": {},
     "output_type": "execute_result"
    }
   ],
   "source": [
    "perks_data = pd.read_csv('internshala_perks_data.csv')\n",
    "perks_data.head(2)"
   ]
  },
  {
   "cell_type": "markdown",
   "id": "c117a829",
   "metadata": {},
   "source": [
    "# Descriptive Data Analysis"
   ]
  },
  {
   "cell_type": "markdown",
   "id": "3eafa4bc",
   "metadata": {},
   "source": [
    "### Maximum , Minimum and Average values of all the columns"
   ]
  },
  {
   "cell_type": "code",
   "execution_count": 389,
   "id": "86344319",
   "metadata": {},
   "outputs": [
    {
     "data": {
      "text/html": [
       "<div>\n",
       "<style scoped>\n",
       "    .dataframe tbody tr th:only-of-type {\n",
       "        vertical-align: middle;\n",
       "    }\n",
       "\n",
       "    .dataframe tbody tr th {\n",
       "        vertical-align: top;\n",
       "    }\n",
       "\n",
       "    .dataframe thead th {\n",
       "        text-align: right;\n",
       "    }\n",
       "</style>\n",
       "<table border=\"1\" class=\"dataframe\">\n",
       "  <thead>\n",
       "    <tr style=\"text-align: right;\">\n",
       "      <th></th>\n",
       "      <th>duration</th>\n",
       "      <th>stipend</th>\n",
       "      <th>hiring_since</th>\n",
       "      <th>oppor_posted</th>\n",
       "      <th>openings</th>\n",
       "    </tr>\n",
       "  </thead>\n",
       "  <tbody>\n",
       "    <tr>\n",
       "      <th>max</th>\n",
       "      <td>36.000000</td>\n",
       "      <td>19000.000000</td>\n",
       "      <td>2022.000000</td>\n",
       "      <td>2767.000000</td>\n",
       "      <td>200.000000</td>\n",
       "    </tr>\n",
       "    <tr>\n",
       "      <th>min</th>\n",
       "      <td>1.000000</td>\n",
       "      <td>1000.000000</td>\n",
       "      <td>2013.000000</td>\n",
       "      <td>1.000000</td>\n",
       "      <td>1.000000</td>\n",
       "    </tr>\n",
       "    <tr>\n",
       "      <th>mean</th>\n",
       "      <td>3.612521</td>\n",
       "      <td>6652.497794</td>\n",
       "      <td>2020.591009</td>\n",
       "      <td>74.153613</td>\n",
       "      <td>4.136238</td>\n",
       "    </tr>\n",
       "  </tbody>\n",
       "</table>\n",
       "</div>"
      ],
      "text/plain": [
       "       duration       stipend  hiring_since  oppor_posted    openings\n",
       "max   36.000000  19000.000000   2022.000000   2767.000000  200.000000\n",
       "min    1.000000   1000.000000   2013.000000      1.000000    1.000000\n",
       "mean   3.612521   6652.497794   2020.591009     74.153613    4.136238"
      ]
     },
     "execution_count": 389,
     "metadata": {},
     "output_type": "execute_result"
    }
   ],
   "source": [
    "data.describe().loc[['max','min','mean'],::]"
   ]
  },
  {
   "cell_type": "markdown",
   "id": "7e986263",
   "metadata": {},
   "source": [
    "### Top 10 locations with most no. of companies posting internships"
   ]
  },
  {
   "cell_type": "code",
   "execution_count": 390,
   "id": "1daccac0",
   "metadata": {},
   "outputs": [
    {
     "data": {
      "text/html": [
       "<div>\n",
       "<style scoped>\n",
       "    .dataframe tbody tr th:only-of-type {\n",
       "        vertical-align: middle;\n",
       "    }\n",
       "\n",
       "    .dataframe tbody tr th {\n",
       "        vertical-align: top;\n",
       "    }\n",
       "\n",
       "    .dataframe thead th {\n",
       "        text-align: right;\n",
       "    }\n",
       "</style>\n",
       "<table border=\"1\" class=\"dataframe\">\n",
       "  <thead>\n",
       "    <tr style=\"text-align: right;\">\n",
       "      <th></th>\n",
       "      <th>location</th>\n",
       "      <th>company</th>\n",
       "    </tr>\n",
       "  </thead>\n",
       "  <tbody>\n",
       "    <tr>\n",
       "      <th>116</th>\n",
       "      <td>Work From Home</td>\n",
       "      <td>1509</td>\n",
       "    </tr>\n",
       "    <tr>\n",
       "      <th>27</th>\n",
       "      <td>Delhi</td>\n",
       "      <td>371</td>\n",
       "    </tr>\n",
       "    <tr>\n",
       "      <th>73</th>\n",
       "      <td>Mumbai</td>\n",
       "      <td>345</td>\n",
       "    </tr>\n",
       "    <tr>\n",
       "      <th>11</th>\n",
       "      <td>Bangalore</td>\n",
       "      <td>200</td>\n",
       "    </tr>\n",
       "    <tr>\n",
       "      <th>36</th>\n",
       "      <td>Gurgaon</td>\n",
       "      <td>170</td>\n",
       "    </tr>\n",
       "    <tr>\n",
       "      <th>90</th>\n",
       "      <td>Pune</td>\n",
       "      <td>135</td>\n",
       "    </tr>\n",
       "    <tr>\n",
       "      <th>81</th>\n",
       "      <td>Noida</td>\n",
       "      <td>122</td>\n",
       "    </tr>\n",
       "    <tr>\n",
       "      <th>59</th>\n",
       "      <td>Kolkata</td>\n",
       "      <td>80</td>\n",
       "    </tr>\n",
       "    <tr>\n",
       "      <th>1</th>\n",
       "      <td>Ahmedabad</td>\n",
       "      <td>77</td>\n",
       "    </tr>\n",
       "    <tr>\n",
       "      <th>41</th>\n",
       "      <td>Hyderabad</td>\n",
       "      <td>77</td>\n",
       "    </tr>\n",
       "  </tbody>\n",
       "</table>\n",
       "</div>"
      ],
      "text/plain": [
       "           location  company\n",
       "116  Work From Home     1509\n",
       "27            Delhi      371\n",
       "73           Mumbai      345\n",
       "11        Bangalore      200\n",
       "36          Gurgaon      170\n",
       "90             Pune      135\n",
       "81            Noida      122\n",
       "59          Kolkata       80\n",
       "1         Ahmedabad       77\n",
       "41        Hyderabad       77"
      ]
     },
     "execution_count": 390,
     "metadata": {},
     "output_type": "execute_result"
    }
   ],
   "source": [
    "comp_count_by_location = data.groupby(by=['location'],as_index =False).aggregate({'company':'count'})\n",
    "comp_count_by_location.nlargest(10, 'company')"
   ]
  },
  {
   "cell_type": "markdown",
   "id": "811e53ae",
   "metadata": {},
   "source": [
    "#### So from the data , most of the internships are \"Work from home\" based "
   ]
  },
  {
   "cell_type": "markdown",
   "id": "93c9f116",
   "metadata": {},
   "source": [
    "### Top 10 locations with highest average stipend offered "
   ]
  },
  {
   "cell_type": "code",
   "execution_count": 391,
   "id": "534939e7",
   "metadata": {},
   "outputs": [
    {
     "data": {
      "text/html": [
       "<div>\n",
       "<style scoped>\n",
       "    .dataframe tbody tr th:only-of-type {\n",
       "        vertical-align: middle;\n",
       "    }\n",
       "\n",
       "    .dataframe tbody tr th {\n",
       "        vertical-align: top;\n",
       "    }\n",
       "\n",
       "    .dataframe thead th {\n",
       "        text-align: right;\n",
       "    }\n",
       "</style>\n",
       "<table border=\"1\" class=\"dataframe\">\n",
       "  <thead>\n",
       "    <tr style=\"text-align: right;\">\n",
       "      <th></th>\n",
       "      <th>stipend</th>\n",
       "    </tr>\n",
       "    <tr>\n",
       "      <th>location</th>\n",
       "      <th></th>\n",
       "    </tr>\n",
       "  </thead>\n",
       "  <tbody>\n",
       "    <tr>\n",
       "      <th>Gurgaon</th>\n",
       "      <td>9344.0</td>\n",
       "    </tr>\n",
       "    <tr>\n",
       "      <th>Bangalore</th>\n",
       "      <td>9052.0</td>\n",
       "    </tr>\n",
       "    <tr>\n",
       "      <th>Hyderabad</th>\n",
       "      <td>8312.0</td>\n",
       "    </tr>\n",
       "    <tr>\n",
       "      <th>Mumbai</th>\n",
       "      <td>8063.0</td>\n",
       "    </tr>\n",
       "    <tr>\n",
       "      <th>Noida</th>\n",
       "      <td>7643.0</td>\n",
       "    </tr>\n",
       "    <tr>\n",
       "      <th>Delhi</th>\n",
       "      <td>7530.0</td>\n",
       "    </tr>\n",
       "    <tr>\n",
       "      <th>Ahmedabad</th>\n",
       "      <td>7273.0</td>\n",
       "    </tr>\n",
       "    <tr>\n",
       "      <th>Pune</th>\n",
       "      <td>7022.0</td>\n",
       "    </tr>\n",
       "    <tr>\n",
       "      <th>Kolkata</th>\n",
       "      <td>6079.0</td>\n",
       "    </tr>\n",
       "    <tr>\n",
       "      <th>Work From Home</th>\n",
       "      <td>5220.0</td>\n",
       "    </tr>\n",
       "  </tbody>\n",
       "</table>\n",
       "</div>"
      ],
      "text/plain": [
       "                stipend\n",
       "location               \n",
       "Gurgaon          9344.0\n",
       "Bangalore        9052.0\n",
       "Hyderabad        8312.0\n",
       "Mumbai           8063.0\n",
       "Noida            7643.0\n",
       "Delhi            7530.0\n",
       "Ahmedabad        7273.0\n",
       "Pune             7022.0\n",
       "Kolkata          6079.0\n",
       "Work From Home   5220.0"
      ]
     },
     "execution_count": 391,
     "metadata": {},
     "output_type": "execute_result"
    }
   ],
   "source": [
    "top10_location_data = data.query(\"location in ['Work From Home','Delhi', 'Mumbai' ,'Bangalore', 'Gurgaon' ,'Pune' ,'Noida', 'Kolkata' ,'Ahmedabad' ,'Hyderabad']\")\n",
    "stp_avg_by_location = top10_location_data.groupby(by= ['location']).aggregate({'stipend':'mean'}).round()\n",
    "stp_avg_by_location.nlargest(10,'stipend')"
   ]
  },
  {
   "cell_type": "markdown",
   "id": "b242a0ff",
   "metadata": {},
   "source": [
    "### Average number of internship openings provided in top 10 locations"
   ]
  },
  {
   "cell_type": "code",
   "execution_count": 392,
   "id": "dfd2c1be",
   "metadata": {},
   "outputs": [
    {
     "data": {
      "text/html": [
       "<div>\n",
       "<style scoped>\n",
       "    .dataframe tbody tr th:only-of-type {\n",
       "        vertical-align: middle;\n",
       "    }\n",
       "\n",
       "    .dataframe tbody tr th {\n",
       "        vertical-align: top;\n",
       "    }\n",
       "\n",
       "    .dataframe thead th {\n",
       "        text-align: right;\n",
       "    }\n",
       "</style>\n",
       "<table border=\"1\" class=\"dataframe\">\n",
       "  <thead>\n",
       "    <tr style=\"text-align: right;\">\n",
       "      <th></th>\n",
       "      <th>openings</th>\n",
       "    </tr>\n",
       "    <tr>\n",
       "      <th>location</th>\n",
       "      <th></th>\n",
       "    </tr>\n",
       "  </thead>\n",
       "  <tbody>\n",
       "    <tr>\n",
       "      <th>Hyderabad</th>\n",
       "      <td>5.0</td>\n",
       "    </tr>\n",
       "    <tr>\n",
       "      <th>Kolkata</th>\n",
       "      <td>5.0</td>\n",
       "    </tr>\n",
       "    <tr>\n",
       "      <th>Work From Home</th>\n",
       "      <td>5.0</td>\n",
       "    </tr>\n",
       "    <tr>\n",
       "      <th>Delhi</th>\n",
       "      <td>4.0</td>\n",
       "    </tr>\n",
       "    <tr>\n",
       "      <th>Pune</th>\n",
       "      <td>4.0</td>\n",
       "    </tr>\n",
       "    <tr>\n",
       "      <th>Ahmedabad</th>\n",
       "      <td>3.0</td>\n",
       "    </tr>\n",
       "    <tr>\n",
       "      <th>Bangalore</th>\n",
       "      <td>3.0</td>\n",
       "    </tr>\n",
       "    <tr>\n",
       "      <th>Gurgaon</th>\n",
       "      <td>3.0</td>\n",
       "    </tr>\n",
       "    <tr>\n",
       "      <th>Mumbai</th>\n",
       "      <td>3.0</td>\n",
       "    </tr>\n",
       "    <tr>\n",
       "      <th>Noida</th>\n",
       "      <td>3.0</td>\n",
       "    </tr>\n",
       "  </tbody>\n",
       "</table>\n",
       "</div>"
      ],
      "text/plain": [
       "                openings\n",
       "location                \n",
       "Hyderabad            5.0\n",
       "Kolkata              5.0\n",
       "Work From Home       5.0\n",
       "Delhi                4.0\n",
       "Pune                 4.0\n",
       "Ahmedabad            3.0\n",
       "Bangalore            3.0\n",
       "Gurgaon              3.0\n",
       "Mumbai               3.0\n",
       "Noida                3.0"
      ]
     },
     "execution_count": 392,
     "metadata": {},
     "output_type": "execute_result"
    }
   ],
   "source": [
    "openings_avg_by_location = top10_location_data.groupby(by= ['location']).aggregate({'openings':'mean'}).round()\n",
    "openings_avg_by_location.nlargest(10,'openings')"
   ]
  },
  {
   "cell_type": "markdown",
   "id": "f52d2ffc",
   "metadata": {},
   "source": [
    "### Top 5 companies with most number of internships offered on that particular day"
   ]
  },
  {
   "cell_type": "code",
   "execution_count": 393,
   "id": "5f2842fa",
   "metadata": {},
   "outputs": [
    {
     "data": {
      "text/html": [
       "<div>\n",
       "<style scoped>\n",
       "    .dataframe tbody tr th:only-of-type {\n",
       "        vertical-align: middle;\n",
       "    }\n",
       "\n",
       "    .dataframe tbody tr th {\n",
       "        vertical-align: top;\n",
       "    }\n",
       "\n",
       "    .dataframe thead th {\n",
       "        text-align: right;\n",
       "    }\n",
       "</style>\n",
       "<table border=\"1\" class=\"dataframe\">\n",
       "  <thead>\n",
       "    <tr style=\"text-align: right;\">\n",
       "      <th></th>\n",
       "      <th>title</th>\n",
       "    </tr>\n",
       "    <tr>\n",
       "      <th>company</th>\n",
       "      <th></th>\n",
       "    </tr>\n",
       "  </thead>\n",
       "  <tbody>\n",
       "    <tr>\n",
       "      <th>Buddha Education Association Incorporation</th>\n",
       "      <td>12</td>\n",
       "    </tr>\n",
       "    <tr>\n",
       "      <th>Omninos Technologies International Private Limited</th>\n",
       "      <td>12</td>\n",
       "    </tr>\n",
       "    <tr>\n",
       "      <th>Across The Globe (ATG)</th>\n",
       "      <td>11</td>\n",
       "    </tr>\n",
       "    <tr>\n",
       "      <th>Tutedude</th>\n",
       "      <td>11</td>\n",
       "    </tr>\n",
       "    <tr>\n",
       "      <th>Rusk Media</th>\n",
       "      <td>10</td>\n",
       "    </tr>\n",
       "  </tbody>\n",
       "</table>\n",
       "</div>"
      ],
      "text/plain": [
       "                                                    title\n",
       "company                                                  \n",
       "Buddha Education Association Incorporation             12\n",
       "Omninos Technologies International Private Limited     12\n",
       "Across The Globe (ATG)                                 11\n",
       "Tutedude                                               11\n",
       "Rusk Media                                             10"
      ]
     },
     "execution_count": 393,
     "metadata": {},
     "output_type": "execute_result"
    }
   ],
   "source": [
    "jobs_count_by_company =  data.groupby(by= ['company']).aggregate({'title':'count'})\n",
    "jobs_count_by_company.nlargest(5,'title')"
   ]
  },
  {
   "cell_type": "markdown",
   "id": "b17742ec",
   "metadata": {},
   "source": [
    "### Total number of unique skills reqirement posted on internshala "
   ]
  },
  {
   "cell_type": "code",
   "execution_count": 394,
   "id": "82ddf642",
   "metadata": {},
   "outputs": [
    {
     "data": {
      "text/plain": [
       "327"
      ]
     },
     "execution_count": 394,
     "metadata": {},
     "output_type": "execute_result"
    }
   ],
   "source": [
    "unique_count_skills = skills_data.skills.unique()\n",
    "len(unique_count_skills)"
   ]
  },
  {
   "cell_type": "markdown",
   "id": "f6811755",
   "metadata": {},
   "source": [
    "### Top 10 in demand skills on Internshala "
   ]
  },
  {
   "cell_type": "code",
   "execution_count": 395,
   "id": "168899ac",
   "metadata": {},
   "outputs": [
    {
     "data": {
      "text/html": [
       "<div>\n",
       "<style scoped>\n",
       "    .dataframe tbody tr th:only-of-type {\n",
       "        vertical-align: middle;\n",
       "    }\n",
       "\n",
       "    .dataframe tbody tr th {\n",
       "        vertical-align: top;\n",
       "    }\n",
       "\n",
       "    .dataframe thead th {\n",
       "        text-align: right;\n",
       "    }\n",
       "</style>\n",
       "<table border=\"1\" class=\"dataframe\">\n",
       "  <thead>\n",
       "    <tr style=\"text-align: right;\">\n",
       "      <th></th>\n",
       "      <th>company</th>\n",
       "    </tr>\n",
       "    <tr>\n",
       "      <th>skills</th>\n",
       "      <th></th>\n",
       "    </tr>\n",
       "  </thead>\n",
       "  <tbody>\n",
       "    <tr>\n",
       "      <th>English Proficiency (Written)</th>\n",
       "      <td>1397</td>\n",
       "    </tr>\n",
       "    <tr>\n",
       "      <th>English Proficiency (Spoken)</th>\n",
       "      <td>1350</td>\n",
       "    </tr>\n",
       "    <tr>\n",
       "      <th>Social Media Marketing</th>\n",
       "      <td>716</td>\n",
       "    </tr>\n",
       "    <tr>\n",
       "      <th>Digital Marketing</th>\n",
       "      <td>714</td>\n",
       "    </tr>\n",
       "    <tr>\n",
       "      <th>MS-Excel</th>\n",
       "      <td>663</td>\n",
       "    </tr>\n",
       "    <tr>\n",
       "      <th>Creative Writing</th>\n",
       "      <td>535</td>\n",
       "    </tr>\n",
       "    <tr>\n",
       "      <th>MS-Office</th>\n",
       "      <td>407</td>\n",
       "    </tr>\n",
       "    <tr>\n",
       "      <th>Search Engine Optimization (SEO)</th>\n",
       "      <td>403</td>\n",
       "    </tr>\n",
       "    <tr>\n",
       "      <th>Email Marketing</th>\n",
       "      <td>382</td>\n",
       "    </tr>\n",
       "    <tr>\n",
       "      <th>Adobe Photoshop</th>\n",
       "      <td>355</td>\n",
       "    </tr>\n",
       "  </tbody>\n",
       "</table>\n",
       "</div>"
      ],
      "text/plain": [
       "                                  company\n",
       "skills                                   \n",
       "English Proficiency (Written)        1397\n",
       "English Proficiency (Spoken)         1350\n",
       "Social Media Marketing                716\n",
       "Digital Marketing                     714\n",
       "MS-Excel                              663\n",
       "Creative Writing                      535\n",
       "MS-Office                             407\n",
       "Search Engine Optimization (SEO)      403\n",
       "Email Marketing                       382\n",
       "Adobe Photoshop                       355"
      ]
     },
     "execution_count": 395,
     "metadata": {},
     "output_type": "execute_result"
    }
   ],
   "source": [
    "companies_count_by_skill =  skills_data.groupby(by= ['skills']).aggregate({'company':'count'})\n",
    "top10_demanding_skills = companies_count_by_skill.nlargest(10,'company')\n",
    "top10_demanding_skills"
   ]
  },
  {
   "cell_type": "markdown",
   "id": "6bfa1087",
   "metadata": {},
   "source": [
    "### Top 10 highest paid skills on internshala"
   ]
  },
  {
   "cell_type": "code",
   "execution_count": 396,
   "id": "ad1a4088",
   "metadata": {},
   "outputs": [
    {
     "data": {
      "text/html": [
       "<div>\n",
       "<style scoped>\n",
       "    .dataframe tbody tr th:only-of-type {\n",
       "        vertical-align: middle;\n",
       "    }\n",
       "\n",
       "    .dataframe tbody tr th {\n",
       "        vertical-align: top;\n",
       "    }\n",
       "\n",
       "    .dataframe thead th {\n",
       "        text-align: right;\n",
       "    }\n",
       "</style>\n",
       "<table border=\"1\" class=\"dataframe\">\n",
       "  <thead>\n",
       "    <tr style=\"text-align: right;\">\n",
       "      <th></th>\n",
       "      <th>stipend</th>\n",
       "    </tr>\n",
       "    <tr>\n",
       "      <th>skills</th>\n",
       "      <th></th>\n",
       "    </tr>\n",
       "  </thead>\n",
       "  <tbody>\n",
       "    <tr>\n",
       "      <th>Email Marketing</th>\n",
       "      <td>9000.0</td>\n",
       "    </tr>\n",
       "    <tr>\n",
       "      <th>MS-Office</th>\n",
       "      <td>7292.0</td>\n",
       "    </tr>\n",
       "    <tr>\n",
       "      <th>MS-Excel</th>\n",
       "      <td>7096.0</td>\n",
       "    </tr>\n",
       "    <tr>\n",
       "      <th>English Proficiency (Spoken)</th>\n",
       "      <td>6620.0</td>\n",
       "    </tr>\n",
       "    <tr>\n",
       "      <th>Adobe Photoshop</th>\n",
       "      <td>5667.0</td>\n",
       "    </tr>\n",
       "    <tr>\n",
       "      <th>Search Engine Optimization (SEO)</th>\n",
       "      <td>5600.0</td>\n",
       "    </tr>\n",
       "    <tr>\n",
       "      <th>English Proficiency (Written)</th>\n",
       "      <td>5250.0</td>\n",
       "    </tr>\n",
       "    <tr>\n",
       "      <th>Creative Writing</th>\n",
       "      <td>5000.0</td>\n",
       "    </tr>\n",
       "    <tr>\n",
       "      <th>Social Media Marketing</th>\n",
       "      <td>4833.0</td>\n",
       "    </tr>\n",
       "    <tr>\n",
       "      <th>Digital Marketing</th>\n",
       "      <td>4389.0</td>\n",
       "    </tr>\n",
       "  </tbody>\n",
       "</table>\n",
       "</div>"
      ],
      "text/plain": [
       "                                  stipend\n",
       "skills                                   \n",
       "Email Marketing                    9000.0\n",
       "MS-Office                          7292.0\n",
       "MS-Excel                           7096.0\n",
       "English Proficiency (Spoken)       6620.0\n",
       "Adobe Photoshop                    5667.0\n",
       "Search Engine Optimization (SEO)   5600.0\n",
       "English Proficiency (Written)      5250.0\n",
       "Creative Writing                   5000.0\n",
       "Social Media Marketing             4833.0\n",
       "Digital Marketing                  4389.0"
      ]
     },
     "execution_count": 396,
     "metadata": {},
     "output_type": "execute_result"
    }
   ],
   "source": [
    "top10_skills_data = data.query(\"skills in ['English Proficiency (Written)','English Proficiency (Spoken)','Social Media Marketing','Digital Marketing','MS-Excel','Creative Writing','MS-Office','Search Engine Optimization (SEO)','Email Marketing','Adobe Photoshop']\")\n",
    "stp_avg_by_skills = top10_skills_data.groupby(by= ['skills']).aggregate({'stipend':'mean'}).round()\n",
    "stp_avg_by_skills.nlargest(10,'stipend')"
   ]
  },
  {
   "cell_type": "markdown",
   "id": "2fbd1439",
   "metadata": {},
   "source": [
    "### Would number of skills affect the stipend amount? (Relationship btw skills and stipend offered)"
   ]
  },
  {
   "cell_type": "code",
   "execution_count": 397,
   "id": "16bd665d",
   "metadata": {},
   "outputs": [
    {
     "data": {
      "image/png": "[encoded data removed]",
      "text/plain": [
       "<Figure size 640x480 with 1 Axes>"
      ]
     },
     "metadata": {},
     "output_type": "display_data"
    }
   ],
   "source": [
    "\n",
    "skills_stipend_corr_data = data.groupby(by=['company']).aggregate({'skills':'count','stipend':'mean'})\n",
    "plt.scatter(skills_stipend_corr_data.stipend,skills_stipend_corr_data.skills)\n",
    "plt.show()"
   ]
  },
  {
   "cell_type": "markdown",
   "id": "169fe700",
   "metadata": {},
   "source": [
    "### All perks offered on Internshala and their frequency"
   ]
  },
  {
   "cell_type": "code",
   "execution_count": 398,
   "id": "82970d5c",
   "metadata": {},
   "outputs": [
    {
     "data": {
      "text/html": [
       "<div>\n",
       "<style scoped>\n",
       "    .dataframe tbody tr th:only-of-type {\n",
       "        vertical-align: middle;\n",
       "    }\n",
       "\n",
       "    .dataframe tbody tr th {\n",
       "        vertical-align: top;\n",
       "    }\n",
       "\n",
       "    .dataframe thead th {\n",
       "        text-align: right;\n",
       "    }\n",
       "</style>\n",
       "<table border=\"1\" class=\"dataframe\">\n",
       "  <thead>\n",
       "    <tr style=\"text-align: right;\">\n",
       "      <th></th>\n",
       "      <th>company</th>\n",
       "    </tr>\n",
       "    <tr>\n",
       "      <th>perks</th>\n",
       "      <th></th>\n",
       "    </tr>\n",
       "  </thead>\n",
       "  <tbody>\n",
       "    <tr>\n",
       "      <th>Certificate</th>\n",
       "      <td>3162</td>\n",
       "    </tr>\n",
       "    <tr>\n",
       "      <th>Letter of recommendation</th>\n",
       "      <td>2556</td>\n",
       "    </tr>\n",
       "    <tr>\n",
       "      <th>Flexible work hours</th>\n",
       "      <td>1776</td>\n",
       "    </tr>\n",
       "    <tr>\n",
       "      <th>5 days a week</th>\n",
       "      <td>1260</td>\n",
       "    </tr>\n",
       "    <tr>\n",
       "      <th>Informal dress code</th>\n",
       "      <td>1053</td>\n",
       "    </tr>\n",
       "    <tr>\n",
       "      <th>Job offer</th>\n",
       "      <td>845</td>\n",
       "    </tr>\n",
       "    <tr>\n",
       "      <th>Free snacks &amp; beverages</th>\n",
       "      <td>450</td>\n",
       "    </tr>\n",
       "  </tbody>\n",
       "</table>\n",
       "</div>"
      ],
      "text/plain": [
       "                          company\n",
       "perks                            \n",
       "Certificate                  3162\n",
       "Letter of recommendation     2556\n",
       "Flexible work hours          1776\n",
       "5 days a week                1260\n",
       "Informal dress code          1053\n",
       "Job offer                     845\n",
       "Free snacks & beverages       450"
      ]
     },
     "execution_count": 398,
     "metadata": {},
     "output_type": "execute_result"
    }
   ],
   "source": [
    "companies_count_by_perk =  perks_data.groupby(by= ['perks']).aggregate({'company':'count'})\n",
    "top_providing_perks = companies_count_by_perk.nlargest(10,'company')\n",
    "top_providing_perks"
   ]
  }
 ],
 "metadata": {
  "kernelspec": {
   "display_name": "Python 3 (ipykernel)",
   "language": "python",
   "name": "python3"
  },
  "language_info": {
   "codemirror_mode": {
    "name": "ipython",
    "version": 3
   },
   "file_extension": ".py",
   "mimetype": "text/x-python",
   "name": "python",
   "nbconvert_exporter": "python",
   "pygments_lexer": "ipython3",
   "version": "3.9.13"
  }
 },
 "nbformat": 4,
 "nbformat_minor": 5
}
